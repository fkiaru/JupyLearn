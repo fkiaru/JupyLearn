{
 "cells": [
  {
   "cell_type": "code",
   "execution_count": 8,
   "metadata": {},
   "outputs": [
    {
     "name": "stdout",
     "output_type": "stream",
     "text": [
      "sP [1221.1]\n",
      "[{'p': 1, 'lc': 'black', 'x': 3221.1, 'y': 200, 'b': 0, 's': 1}, {'p': 1, 'lc': 'black', 'x': 220.0, 'y': 200.0, 'b': 0, 's': 1}, {'p': 1, 'lc': 'black', 'x': 260.0, 'y': 200.0, 'b': 0, 's': 1}]\n",
      "[1221.1]\n"
     ]
    }
   ],
   "source": [
    "\n",
    "t.points[0]['x']=3221.1\n",
    "t.param[0]=1221.1\n",
    "t.forward(40)\n",
    "print(t.points)\n",
    "print(t.param)\n"
   ]
  },
  {
   "cell_type": "code",
   "execution_count": 4,
   "metadata": {},
   "outputs": [],
   "source": [
    "t.points[0]['x']=3221.1\n",
    "t.test.append(dict(x=43))"
   ]
  },
  {
   "cell_type": "code",
   "execution_count": 5,
   "metadata": {},
   "outputs": [
    {
     "data": {
      "text/plain": [
       "1"
      ]
     },
     "execution_count": 5,
     "metadata": {},
     "output_type": "execute_result"
    }
   ],
   "source": [
    "len(t.points)"
   ]
  },
  {
   "cell_type": "code",
   "execution_count": 7,
   "metadata": {},
   "outputs": [
    {
     "data": {
      "text/plain": [
       "[1221.1,\n",
       " 460,\n",
       " '#00FFFF',\n",
       " 'white',\n",
       " 800,\n",
       " 460,\n",
       " '#00FFFF',\n",
       " 'white',\n",
       " 800,\n",
       " 460,\n",
       " '#00FFFF',\n",
       " 'white',\n",
       " 800,\n",
       " 460,\n",
       " '#00FFFF',\n",
       " 'white']"
      ]
     },
     "execution_count": 7,
     "metadata": {},
     "output_type": "execute_result"
    }
   ],
   "source": [
    "t.param"
   ]
  },
  {
   "cell_type": "code",
   "execution_count": 5,
   "metadata": {},
   "outputs": [],
   "source": [
    "t.param[0]+=11"
   ]
  },
  {
   "cell_type": "code",
   "execution_count": 7,
   "metadata": {},
   "outputs": [
    {
     "data": {
      "text/plain": [
       "[11, 11, 999, 11, 999, 11, 999]"
      ]
     },
     "execution_count": 7,
     "metadata": {},
     "output_type": "execute_result"
    }
   ],
   "source": [
    "t.test"
   ]
  },
  {
   "cell_type": "code",
   "execution_count": 1,
   "metadata": {},
   "outputs": [],
   "source": [
    "from mobilechelonian import Turtle\n"
   ]
  },
  {
   "cell_type": "code",
   "execution_count": 2,
   "metadata": {},
   "outputs": [
    {
     "data": {
      "application/vnd.jupyter.widget-view+json": {
       "model_id": "d171e95c8d1c479fa824fdbbc5e9bf37",
       "version_major": 2,
       "version_minor": 0
      },
      "text/plain": [
       "Turtle(initTest=[400, 400, '#DDCDCC', '#008A00'])"
      ]
     },
     "metadata": {},
     "output_type": "display_data"
    }
   ],
   "source": [
    "t=Turtle()"
   ]
  },
  {
   "cell_type": "code",
   "execution_count": 3,
   "metadata": {},
   "outputs": [
    {
     "name": "stdout",
     "output_type": "stream",
     "text": [
      "Help on Turtle in module mobilechelonian object:\n",
      "\n",
      "class Turtle(ipywidgets.widgets.domwidget.DOMWidget)\n",
      " |  Turtle(*args, **kwargs)\n",
      " |  \n",
      " |  Help on turtle\n",
      " |  \n",
      " |  Method resolution order:\n",
      " |      Turtle\n",
      " |      ipywidgets.widgets.domwidget.DOMWidget\n",
      " |      ipywidgets.widgets.widget.Widget\n",
      " |      ipywidgets.widgets.widget.LoggingHasTraits\n",
      " |      traitlets.traitlets.HasTraits\n",
      " |      traitlets.traitlets.HasDescriptors\n",
      " |      builtins.object\n",
      " |  \n",
      " |  Methods defined here:\n",
      " |  \n",
      " |  __init__(self, sXY=[400, 400], bkColor='#DDCDCC', tColor='#008A00')\n",
      " |      Create a Turtle.\n",
      " |      \n",
      " |      Example::\n",
      " |      \n",
      " |          t = Turtle()\n",
      " |  \n",
      " |  backward(self, num)\n",
      " |      Move the Turtle backward by num units.\n",
      " |      \n",
      " |      Example::\n",
      " |      \n",
      " |          t.backward(100)\n",
      " |  \n",
      " |  bkColor(self, nbkC)\n",
      " |      Change the background color. \n",
      " |      \n",
      " |      Example::\n",
      " |      \n",
      " |          t.bkColor(\"white\")\n",
      " |  \n",
      " |  circle(self, radius, extent=360)\n",
      " |      Draw a circle, or part of a circle.\n",
      " |      \n",
      " |      From its current position, the turtle will draw a series of short lines,\n",
      " |      turning slightly between each. If radius is positive, it will turn to\n",
      " |      its left; a negative radius will make it turn to its right.\n",
      " |      \n",
      " |      Example::\n",
      " |      \n",
      " |          t.circle(50)\n",
      " |  \n",
      " |  clear(self)\n",
      " |  \n",
      " |  forward(self, num)\n",
      " |      Move the Turtle forward by num units.\n",
      " |      \n",
      " |      Example:\n",
      " |      \n",
      " |          t.forward(100)\n",
      " |  \n",
      " |  hide(self)\n",
      " |  \n",
      " |  home(self)\n",
      " |      Move the Turtle to its home position.\n",
      " |      \n",
      " |      Example::\n",
      " |      \n",
      " |          t.home()\n",
      " |  \n",
      " |  left(self, num)\n",
      " |      Turn the Turtle num degrees to the left.\n",
      " |      \n",
      " |      Example::\n",
      " |      \n",
      " |          t.left(90)\n",
      " |  \n",
      " |  penColor(self, color)\n",
      " |      Change the color of the pen to color. Default is black.\n",
      " |      \n",
      " |      Example::\n",
      " |      \n",
      " |          t.pencolor(\"red\")\n",
      " |  \n",
      " |  penDown(self)\n",
      " |      Put down the pen. Turtles start with their pen down.\n",
      " |      \n",
      " |      Example::\n",
      " |      \n",
      " |          t.pendown()\n",
      " |  \n",
      " |  penUp(self)\n",
      " |      Lift up the pen.\n",
      " |      \n",
      " |      Example::\n",
      " |      \n",
      " |          t.penup()\n",
      " |  \n",
      " |  penWidth(self, penS)\n",
      " |      Change the pen width. zero is no pen\n",
      " |      \n",
      " |      Example::\n",
      " |      \n",
      " |          t.pendWidth(2)\n",
      " |  \n",
      " |  right(self, num)\n",
      " |      Turn the Turtle num degrees to the right.\n",
      " |      \n",
      " |      Example::\n",
      " |      \n",
      " |          t.right(90)\n",
      " |  \n",
      " |  setBearing(self, bearing)\n",
      " |      Change the bearing (angle) of the turtle.\n",
      " |      \n",
      " |      Example::\n",
      " |      \n",
      " |          t.setbearing(180)\n",
      " |  \n",
      " |  setPosition(self, x, y, bearing=None)\n",
      " |      Change the position of the turtle.\n",
      " |      \n",
      " |      Example::\n",
      " |      \n",
      " |          t.setposition(100, 100)\n",
      " |  \n",
      " |  show(self)\n",
      " |  \n",
      " |  speed(self, speed)\n",
      " |      Change the speed of the turtle (range 1-10).\n",
      " |      \n",
      " |      Example::\n",
      " |      \n",
      " |          t.speed(10) # Full speed\n",
      " |  \n",
      " |  tColor(self, tColor)\n",
      " |      Change the turtle color\n",
      " |      \n",
      " |      Example::\n",
      " |      \n",
      " |          t.tColor(\"yellow\")\n",
      " |  \n",
      " |  tShowStatus(self, state)\n",
      " |      Change the turtle show status\n",
      " |      \n",
      " |      Example::\n",
      " |      \n",
      " |          t.tShowStatus(1) % show\n",
      " |          t.tShowStatus(1) % hide\n",
      " |  \n",
      " |  ----------------------------------------------------------------------\n",
      " |  Data descriptors defined here:\n",
      " |  \n",
      " |  initTest\n",
      " |      An instance of a Python list.\n",
      " |  \n",
      " |  param\n",
      " |      An instance of a Python list.\n",
      " |  \n",
      " |  points\n",
      " |      An instance of a Python list.\n",
      " |  \n",
      " |  ----------------------------------------------------------------------\n",
      " |  Data and other attributes defined here:\n",
      " |  \n",
      " |  OFFSET = 20\n",
      " |  \n",
      " |  SIZE = 400\n",
      " |  \n",
      " |  ----------------------------------------------------------------------\n",
      " |  Methods inherited from ipywidgets.widgets.domwidget.DOMWidget:\n",
      " |  \n",
      " |  add_class(self, className)\n",
      " |      Adds a class to the top level element of the widget.\n",
      " |      \n",
      " |      Doesn't add the class if it already exists.\n",
      " |  \n",
      " |  remove_class(self, className)\n",
      " |      Removes a class from the top level element of the widget.\n",
      " |      \n",
      " |      Doesn't remove the class if it doesn't exist.\n",
      " |  \n",
      " |  ----------------------------------------------------------------------\n",
      " |  Data descriptors inherited from ipywidgets.widgets.domwidget.DOMWidget:\n",
      " |  \n",
      " |  layout\n",
      " |      An instance trait which coerces a dict to an instance.\n",
      " |      \n",
      " |      This lets the instance be specified as a dict, which is used\n",
      " |      to initialize the instance.\n",
      " |      \n",
      " |      Also, we default to a trivial instance, even if args and kwargs\n",
      " |      is not specified.\n",
      " |  \n",
      " |  ----------------------------------------------------------------------\n",
      " |  Methods inherited from ipywidgets.widgets.widget.Widget:\n",
      " |  \n",
      " |  __del__(self)\n",
      " |      Object disposal\n",
      " |  \n",
      " |  __repr__(self)\n",
      " |      Return repr(self).\n",
      " |  \n",
      " |  add_traits(self, **traits)\n",
      " |      Dynamically add trait attributes to the Widget.\n",
      " |  \n",
      " |  close(self)\n",
      " |      Close method.\n",
      " |      \n",
      " |      Closes the underlying comm.\n",
      " |      When the comm is closed, all of the widget views are automatically\n",
      " |      removed from the front-end.\n",
      " |  \n",
      " |  get_state(self, key=None, drop_defaults=False)\n",
      " |      Gets the widget state, or a piece of it.\n",
      " |      \n",
      " |      Parameters\n",
      " |      ----------\n",
      " |      key : unicode or iterable (optional)\n",
      " |          A single property's name or iterable of property names to get.\n",
      " |      \n",
      " |      Returns\n",
      " |      -------\n",
      " |      state : dict of states\n",
      " |      metadata : dict\n",
      " |          metadata for each field: {key: metadata}\n",
      " |  \n",
      " |  get_view_spec(self)\n",
      " |  \n",
      " |  hold_sync(self)\n",
      " |      Hold syncing any state until the outermost context manager exits\n",
      " |  \n",
      " |  notify_change(self, change)\n",
      " |      Called when a property has changed.\n",
      " |  \n",
      " |  on_displayed(self, callback, remove=False)\n",
      " |      (Un)Register a widget displayed callback.\n",
      " |      \n",
      " |      Parameters\n",
      " |      ----------\n",
      " |      callback: method handler\n",
      " |          Must have a signature of::\n",
      " |      \n",
      " |              callback(widget, **kwargs)\n",
      " |      \n",
      " |          kwargs from display are passed through without modification.\n",
      " |      remove: bool\n",
      " |          True if the callback should be unregistered.\n",
      " |  \n",
      " |  on_msg(self, callback, remove=False)\n",
      " |      (Un)Register a custom msg receive callback.\n",
      " |      \n",
      " |      Parameters\n",
      " |      ----------\n",
      " |      callback: callable\n",
      " |          callback will be passed three arguments when a message arrives::\n",
      " |      \n",
      " |              callback(widget, content, buffers)\n",
      " |      \n",
      " |      remove: bool\n",
      " |          True if the callback should be unregistered.\n",
      " |  \n",
      " |  open(self)\n",
      " |      Open a comm to the frontend if one isn't already open.\n",
      " |  \n",
      " |  send(self, content, buffers=None)\n",
      " |      Sends a custom msg to the widget model in the front-end.\n",
      " |      \n",
      " |      Parameters\n",
      " |      ----------\n",
      " |      content : dict\n",
      " |          Content of the message to send.\n",
      " |      buffers : list of binary buffers\n",
      " |          Binary buffers to send with message\n",
      " |  \n",
      " |  send_state(self, key=None)\n",
      " |      Sends the widget state, or a piece of it, to the front-end, if it exists.\n",
      " |      \n",
      " |      Parameters\n",
      " |      ----------\n",
      " |      key : unicode, or iterable (optional)\n",
      " |          A single property's name or iterable of property names to sync with the front-end.\n",
      " |  \n",
      " |  set_state(self, sync_data)\n",
      " |      Called when a state is received from the front-end.\n",
      " |  \n",
      " |  ----------------------------------------------------------------------\n",
      " |  Class methods inherited from ipywidgets.widgets.widget.Widget:\n",
      " |  \n",
      " |  close_all() from traitlets.traitlets.MetaHasTraits\n",
      " |  \n",
      " |  ----------------------------------------------------------------------\n",
      " |  Static methods inherited from ipywidgets.widgets.widget.Widget:\n",
      " |  \n",
      " |  get_manager_state(drop_defaults=False, widgets=None)\n",
      " |      Returns the full state for a widget manager for embedding\n",
      " |      \n",
      " |      :param drop_defaults: when True, it will not include default value\n",
      " |      :param widgets: list with widgets to include in the state (or all widgets when None)\n",
      " |      :return:\n",
      " |  \n",
      " |  handle_comm_opened(comm, msg)\n",
      " |      Static method, called when a widget is constructed.\n",
      " |  \n",
      " |  on_widget_constructed(callback)\n",
      " |      Registers a callback to be called when a widget is constructed.\n",
      " |      \n",
      " |      The callback must have the following signature:\n",
      " |      callback(widget)\n",
      " |  \n",
      " |  ----------------------------------------------------------------------\n",
      " |  Data descriptors inherited from ipywidgets.widgets.widget.Widget:\n",
      " |  \n",
      " |  comm\n",
      " |      A trait whose value must be an instance of a specified class.\n",
      " |      \n",
      " |      The value can also be an instance of a subclass of the specified class.\n",
      " |      \n",
      " |      Subclasses can declare default classes by overriding the klass attribute\n",
      " |  \n",
      " |  keys\n",
      " |      An instance of a Python list.\n",
      " |  \n",
      " |  model_id\n",
      " |      Gets the model id of this widget.\n",
      " |      \n",
      " |      If a Comm doesn't exist yet, a Comm will be created automagically.\n",
      " |  \n",
      " |  ----------------------------------------------------------------------\n",
      " |  Data and other attributes inherited from ipywidgets.widgets.widget.Widget:\n",
      " |  \n",
      " |  widget_types = <ipywidgets.widgets.widget.WidgetRegistry object>\n",
      " |  \n",
      " |  widgets = {'752445ba9233430cabae16a38ac9a033': Layout(), '9dffca60e1bf...\n",
      " |  \n",
      " |  ----------------------------------------------------------------------\n",
      " |  Data descriptors inherited from ipywidgets.widgets.widget.LoggingHasTraits:\n",
      " |  \n",
      " |  log\n",
      " |      A trait whose value must be an instance of a specified class.\n",
      " |      \n",
      " |      The value can also be an instance of a subclass of the specified class.\n",
      " |      \n",
      " |      Subclasses can declare default classes by overriding the klass attribute\n",
      " |  \n",
      " |  ----------------------------------------------------------------------\n",
      " |  Methods inherited from traitlets.traitlets.HasTraits:\n",
      " |  \n",
      " |  __getstate__(self)\n",
      " |  \n",
      " |  __setstate__(self, state)\n",
      " |  \n",
      " |  has_trait(self, name)\n",
      " |      Returns True if the object has a trait with the specified name.\n",
      " |  \n",
      " |  hold_trait_notifications(self)\n",
      " |      Context manager for bundling trait change notifications and cross\n",
      " |      validation.\n",
      " |      \n",
      " |      Use this when doing multiple trait assignments (init, config), to avoid\n",
      " |      race conditions in trait notifiers requesting other trait values.\n",
      " |      All trait notifications will fire after all values have been assigned.\n",
      " |  \n",
      " |  observe(self, handler, names=traitlets.All, type='change')\n",
      " |      Setup a handler to be called when a trait changes.\n",
      " |      \n",
      " |      This is used to setup dynamic notifications of trait changes.\n",
      " |      \n",
      " |      Parameters\n",
      " |      ----------\n",
      " |      handler : callable\n",
      " |          A callable that is called when a trait changes. Its\n",
      " |          signature should be ``handler(change)``, where ``change`` is a\n",
      " |          dictionary. The change dictionary at least holds a 'type' key.\n",
      " |          * ``type``: the type of notification.\n",
      " |          Other keys may be passed depending on the value of 'type'. In the\n",
      " |          case where type is 'change', we also have the following keys:\n",
      " |          * ``owner`` : the HasTraits instance\n",
      " |          * ``old`` : the old value of the modified trait attribute\n",
      " |          * ``new`` : the new value of the modified trait attribute\n",
      " |          * ``name`` : the name of the modified trait attribute.\n",
      " |      names : list, str, All\n",
      " |          If names is All, the handler will apply to all traits.  If a list\n",
      " |          of str, handler will apply to all names in the list.  If a\n",
      " |          str, the handler will apply just to that name.\n",
      " |      type : str, All (default: 'change')\n",
      " |          The type of notification to filter by. If equal to All, then all\n",
      " |          notifications are passed to the observe handler.\n",
      " |  \n",
      " |  on_trait_change(self, handler=None, name=None, remove=False)\n",
      " |      DEPRECATED: Setup a handler to be called when a trait changes.\n",
      " |      \n",
      " |      This is used to setup dynamic notifications of trait changes.\n",
      " |      \n",
      " |      Static handlers can be created by creating methods on a HasTraits\n",
      " |      subclass with the naming convention '_[traitname]_changed'.  Thus,\n",
      " |      to create static handler for the trait 'a', create the method\n",
      " |      _a_changed(self, name, old, new) (fewer arguments can be used, see\n",
      " |      below).\n",
      " |      \n",
      " |      If `remove` is True and `handler` is not specified, all change\n",
      " |      handlers for the specified name are uninstalled.\n",
      " |      \n",
      " |      Parameters\n",
      " |      ----------\n",
      " |      handler : callable, None\n",
      " |          A callable that is called when a trait changes.  Its\n",
      " |          signature can be handler(), handler(name), handler(name, new),\n",
      " |          handler(name, old, new), or handler(name, old, new, self).\n",
      " |      name : list, str, None\n",
      " |          If None, the handler will apply to all traits.  If a list\n",
      " |          of str, handler will apply to all names in the list.  If a\n",
      " |          str, the handler will apply just to that name.\n",
      " |      remove : bool\n",
      " |          If False (the default), then install the handler.  If True\n",
      " |          then unintall it.\n",
      " |  \n",
      " |  set_trait(self, name, value)\n",
      " |      Forcibly sets trait attribute, including read-only attributes.\n",
      " |  \n",
      " |  setup_instance(self, *args, **kwargs)\n",
      " |      This is called **before** self.__init__ is called.\n",
      " |  \n",
      " |  trait_metadata(self, traitname, key, default=None)\n",
      " |      Get metadata values for trait by key.\n",
      " |  \n",
      " |  trait_names(self, **metadata)\n",
      " |      Get a list of all the names of this class' traits.\n",
      " |  \n",
      " |  traits(self, **metadata)\n",
      " |      Get a ``dict`` of all the traits of this class.  The dictionary\n",
      " |      is keyed on the name and the values are the TraitType objects.\n",
      " |      \n",
      " |      The TraitTypes returned don't know anything about the values\n",
      " |      that the various HasTrait's instances are holding.\n",
      " |      \n",
      " |      The metadata kwargs allow functions to be passed in which\n",
      " |      filter traits based on metadata values.  The functions should\n",
      " |      take a single value as an argument and return a boolean.  If\n",
      " |      any function returns False, then the trait is not included in\n",
      " |      the output.  If a metadata key doesn't exist, None will be passed\n",
      " |      to the function.\n",
      " |  \n",
      " |  unobserve(self, handler, names=traitlets.All, type='change')\n",
      " |      Remove a trait change handler.\n",
      " |      \n",
      " |      This is used to unregister handlers to trait change notifications.\n",
      " |      \n",
      " |      Parameters\n",
      " |      ----------\n",
      " |      handler : callable\n",
      " |          The callable called when a trait attribute changes.\n",
      " |      names : list, str, All (default: All)\n",
      " |          The names of the traits for which the specified handler should be\n",
      " |          uninstalled. If names is All, the specified handler is uninstalled\n",
      " |          from the list of notifiers corresponding to all changes.\n",
      " |      type : str or All (default: 'change')\n",
      " |          The type of notification to filter by. If All, the specified handler\n",
      " |          is uninstalled from the list of notifiers corresponding to all types.\n",
      " |  \n",
      " |  unobserve_all(self, name=traitlets.All)\n",
      " |      Remove trait change handlers of any type for the specified name.\n",
      " |      If name is not specified, removes all trait notifiers.\n",
      " |  \n",
      " |  ----------------------------------------------------------------------\n",
      " |  Class methods inherited from traitlets.traitlets.HasTraits:\n",
      " |  \n",
      " |  class_own_trait_events(name) from traitlets.traitlets.MetaHasTraits\n",
      " |      Get a dict of all event handlers defined on this class, not a parent.\n",
      " |      \n",
      " |      Works like ``event_handlers``, except for excluding traits from parents.\n",
      " |  \n",
      " |  class_own_traits(**metadata) from traitlets.traitlets.MetaHasTraits\n",
      " |      Get a dict of all the traitlets defined on this class, not a parent.\n",
      " |      \n",
      " |      Works like `class_traits`, except for excluding traits from parents.\n",
      " |  \n",
      " |  class_trait_names(**metadata) from traitlets.traitlets.MetaHasTraits\n",
      " |      Get a list of all the names of this class' traits.\n",
      " |      \n",
      " |      This method is just like the :meth:`trait_names` method,\n",
      " |      but is unbound.\n",
      " |  \n",
      " |  class_traits(**metadata) from traitlets.traitlets.MetaHasTraits\n",
      " |      Get a ``dict`` of all the traits of this class.  The dictionary\n",
      " |      is keyed on the name and the values are the TraitType objects.\n",
      " |      \n",
      " |      This method is just like the :meth:`traits` method, but is unbound.\n",
      " |      \n",
      " |      The TraitTypes returned don't know anything about the values\n",
      " |      that the various HasTrait's instances are holding.\n",
      " |      \n",
      " |      The metadata kwargs allow functions to be passed in which\n",
      " |      filter traits based on metadata values.  The functions should\n",
      " |      take a single value as an argument and return a boolean.  If\n",
      " |      any function returns False, then the trait is not included in\n",
      " |      the output.  If a metadata key doesn't exist, None will be passed\n",
      " |      to the function.\n",
      " |  \n",
      " |  trait_events(name=None) from traitlets.traitlets.MetaHasTraits\n",
      " |      Get a ``dict`` of all the event handlers of this class.\n",
      " |      \n",
      " |      Parameters\n",
      " |      ----------\n",
      " |      name: str (default: None)\n",
      " |          The name of a trait of this class. If name is ``None`` then all\n",
      " |          the event handlers of this class will be returned instead.\n",
      " |      \n",
      " |      Returns\n",
      " |      -------\n",
      " |      The event handlers associated with a trait name, or all event handlers.\n",
      " |  \n",
      " |  ----------------------------------------------------------------------\n",
      " |  Data descriptors inherited from traitlets.traitlets.HasTraits:\n",
      " |  \n",
      " |  cross_validation_lock\n",
      " |      A contextmanager for running a block with our cross validation lock set\n",
      " |      to True.\n",
      " |      \n",
      " |      At the end of the block, the lock's value is restored to its value\n",
      " |      prior to entering the block.\n",
      " |  \n",
      " |  ----------------------------------------------------------------------\n",
      " |  Static methods inherited from traitlets.traitlets.HasDescriptors:\n",
      " |  \n",
      " |  __new__(cls, *args, **kwargs)\n",
      " |      Create and return a new object.  See help(type) for accurate signature.\n",
      " |  \n",
      " |  ----------------------------------------------------------------------\n",
      " |  Data descriptors inherited from traitlets.traitlets.HasDescriptors:\n",
      " |  \n",
      " |  __dict__\n",
      " |      dictionary for instance variables (if defined)\n",
      " |  \n",
      " |  __weakref__\n",
      " |      list of weak references to the object (if defined)\n",
      "\n"
     ]
    }
   ],
   "source": [
    "help(t)"
   ]
  },
  {
   "cell_type": "code",
   "execution_count": 4,
   "metadata": {},
   "outputs": [
    {
     "data": {
      "application/vnd.jupyter.widget-view+json": {
       "model_id": "e440e237cec143d9aadc83927ffcbc80",
       "version_major": 2,
       "version_minor": 0
      },
      "text/plain": [
       "Turtle(initTest=[450, 460, '#DDCDCC', '#008A00'])"
      ]
     },
     "metadata": {},
     "output_type": "display_data"
    }
   ],
   "source": [
    "t=Turtle(sXY=[450,460],bkColor=\"#DDCDCC\",tColor=\"#008A00\")"
   ]
  },
  {
   "cell_type": "code",
   "execution_count": 9,
   "metadata": {},
   "outputs": [],
   "source": [
    "t.penWidth(2)\n",
    "t.penColor('yellow')"
   ]
  },
  {
   "cell_type": "code",
   "execution_count": 13,
   "metadata": {},
   "outputs": [],
   "source": [
    "t.rt(-40)"
   ]
  },
  {
   "cell_type": "code",
   "execution_count": 7,
   "metadata": {},
   "outputs": [],
   "source": [
    "t.bkColor(\"red\")"
   ]
  },
  {
   "cell_type": "code",
   "execution_count": 16,
   "metadata": {},
   "outputs": [],
   "source": [
    "t.pencolor(\"black\")"
   ]
  },
  {
   "cell_type": "code",
   "execution_count": 25,
   "metadata": {},
   "outputs": [],
   "source": [
    "t.home()"
   ]
  },
  {
   "cell_type": "code",
   "execution_count": 4,
   "metadata": {},
   "outputs": [],
   "source": [
    "coul=['black',\"red\",\"pink\",\"purple\",\"brown\",\"magenta\",\"yellow\"]\n",
    "import time\n",
    "t.speed(8)\n",
    "for k in range(10):\n",
    "    t.penWidth(k)\n",
    "    t.tShowStatus(k%2)\n",
    "    #t.clear()\n",
    "    t.penColor(coul[k%7])\n",
    "    t.bkColor(coul[(k+1)%7])\n",
    "    t.tColor(coul[(k+2)%7])\n",
    "    #time.sleep(0.2)\n",
    "    t.forward(-20)    "
   ]
  },
  {
   "cell_type": "code",
   "execution_count": 7,
   "metadata": {},
   "outputs": [],
   "source": [
    "t.penSize(11)"
   ]
  },
  {
   "cell_type": "code",
   "execution_count": 12,
   "metadata": {},
   "outputs": [
    {
     "name": "stdout",
     "output_type": "stream",
     "text": [
      "do not update\n",
      "sP [{'sXY': [450, 460], 'bkC': '#00FFFF', 'tC': 'white', 'tS': 1, 'pS': 2}]\n"
     ]
    }
   ],
   "source": [
    "t.forward(40)"
   ]
  },
  {
   "cell_type": "code",
   "execution_count": 5,
   "metadata": {},
   "outputs": [],
   "source": [
    "t.points[0]['x']=8821.1"
   ]
  },
  {
   "cell_type": "code",
   "execution_count": 4,
   "metadata": {},
   "outputs": [],
   "source": [
    "t.param[0]['x']=11999"
   ]
  },
  {
   "cell_type": "code",
   "execution_count": 4,
   "metadata": {},
   "outputs": [
    {
     "data": {
      "text/plain": [
       "[{'sXY': [450, 460], 'bkC': '#00FFFF', 'tC': 'red', 'tS': 1, 'pS': 1}]"
      ]
     },
     "execution_count": 4,
     "metadata": {},
     "output_type": "execute_result"
    }
   ],
   "source": [
    "t.param=t.param +[0]\n",
    "t.param.pop()\n",
    "t.param"
   ]
  },
  {
   "cell_type": "code",
   "execution_count": 8,
   "metadata": {},
   "outputs": [
    {
     "data": {
      "text/plain": [
       "[{'sXY': [450, 460], 'bkC': '#00FFFF', 'tC': 'white', 'tS': 0}, 0, 0]"
      ]
     },
     "execution_count": 8,
     "metadata": {},
     "output_type": "execute_result"
    }
   ],
   "source": [
    "t.param"
   ]
  },
  {
   "cell_type": "code",
   "execution_count": 9,
   "metadata": {},
   "outputs": [],
   "source": [
    "t.param[0]['pS']=2"
   ]
  },
  {
   "cell_type": "code",
   "execution_count": 6,
   "metadata": {},
   "outputs": [
    {
     "data": {
      "text/plain": [
       "[{'p': 1, 'lc': 'black', 'x': 8821.1, 'y': 200, 'b': 0, 's': 1},\n",
       " {'p': 1, 'lc': 'black', 'x': 220.0, 'y': 200.0, 'b': 0, 's': 1}]"
      ]
     },
     "execution_count": 6,
     "metadata": {},
     "output_type": "execute_result"
    }
   ],
   "source": [
    "t.points"
   ]
  },
  {
   "cell_type": "code",
   "execution_count": 14,
   "metadata": {},
   "outputs": [],
   "source": [
    "t.param[0]['bkC']=\"#00FF00\""
   ]
  },
  {
   "cell_type": "code",
   "execution_count": 4,
   "metadata": {},
   "outputs": [
    {
     "name": "stdout",
     "output_type": "stream",
     "text": [
      "[400, 460, 'yellow', 'white']\n",
      "[400, 460, 'yellow', 'white']\n",
      "[400, 460, 'yellow', 'white']\n",
      "[400, 460, 'yellow', 'white']\n",
      "[400, 460, 'yellow', 'white']\n",
      "[400, 460, 'yellow', 'white']\n",
      "[400, 460, 'yellow', 'white']\n",
      "[400, 460, 'yellow', 'white']\n"
     ]
    }
   ],
   "source": [
    "for k in range(4):\n",
    "    t.forward(30)\n",
    "    t.left(90)"
   ]
  },
  {
   "cell_type": "code",
   "execution_count": 9,
   "metadata": {},
   "outputs": [
    {
     "data": {
      "text/plain": [
       "[{'p': 1,\n",
       "  'lc': 'black',\n",
       "  'x': 11999,\n",
       "  'y': 200,\n",
       "  'b': 0,\n",
       "  's': 1,\n",
       "  'sxy': [130, 450]}]"
      ]
     },
     "execution_count": 9,
     "metadata": {},
     "output_type": "execute_result"
    }
   ],
   "source": [
    "t.param"
   ]
  },
  {
   "cell_type": "code",
   "execution_count": 8,
   "metadata": {},
   "outputs": [
    {
     "data": {
      "text/plain": [
       "[{'p': 1, 'lc': 'black', 'x': 200, 'y': 200, 'b': 0, 's': 1},\n",
       " {'p': 1, 'lc': 'black', 'x': 230.0, 'y': 200.0, 'b': 0, 's': 1},\n",
       " {'p': 1, 'lc': 'black', 'x': 230.0, 'y': 200.0, 'b': -90, 's': 1},\n",
       " {'p': 1, 'lc': 'black', 'x': 230.0, 'y': 170.0, 'b': 0, 's': 1},\n",
       " {'p': 1, 'lc': 'black', 'x': 230.0, 'y': 170.0, 'b': -90, 's': 1},\n",
       " {'p': 1, 'lc': 'black', 'x': 200.0, 'y': 170.0, 'b': 0, 's': 1},\n",
       " {'p': 1, 'lc': 'black', 'x': 200.0, 'y': 170.0, 'b': -90, 's': 1},\n",
       " {'p': 1, 'lc': 'black', 'x': 200.0, 'y': 200.0, 'b': 0, 's': 1},\n",
       " {'p': 1, 'lc': 'black', 'x': 200.0, 'y': 200.0, 'b': -90, 's': 1}]"
      ]
     },
     "execution_count": 8,
     "metadata": {},
     "output_type": "execute_result"
    }
   ],
   "source": [
    "t.points"
   ]
  },
  {
   "cell_type": "code",
   "execution_count": 10,
   "metadata": {},
   "outputs": [
    {
     "data": {
      "text/plain": [
       "[0, 460, 'yellow', 'white']"
      ]
     },
     "execution_count": 10,
     "metadata": {},
     "output_type": "execute_result"
    }
   ],
   "source": [
    "t.param"
   ]
  },
  {
   "cell_type": "code",
   "execution_count": null,
   "metadata": {},
   "outputs": [],
   "source": []
  }
 ],
 "metadata": {
  "kernelspec": {
   "display_name": "Python 3",
   "language": "python",
   "name": "python3"
  },
  "language_info": {
   "codemirror_mode": {
    "name": "ipython",
    "version": 3
   },
   "file_extension": ".py",
   "mimetype": "text/x-python",
   "name": "python",
   "nbconvert_exporter": "python",
   "pygments_lexer": "ipython3",
   "version": "3.7.6"
  }
 },
 "nbformat": 4,
 "nbformat_minor": 4
}
