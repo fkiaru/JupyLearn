{
 "cells": [
  {
   "cell_type": "code",
   "execution_count": 1,
   "metadata": {},
   "outputs": [],
   "source": [
    "# Here we'll import our Turtle object. This lets us create specific turtles.\n",
    "from mobilechelonian import Turtle"
   ]
  },
  {
   "cell_type": "code",
   "execution_count": 2,
   "metadata": {},
   "outputs": [
    {
     "data": {
      "application/vnd.jupyter.widget-view+json": {
       "model_id": "7dc825798a3047bf8a368b35592a5010",
       "version_major": 2,
       "version_minor": 0
      },
      "text/plain": [
       "Turtle(initTest=[500, 500, '#DDCDCC', '#008A00'])"
      ]
     },
     "metadata": {},
     "output_type": "display_data"
    }
   ],
   "source": [
    "# We'll create a new turtle like this. It should open a window with our turtle inside.\n",
    "t = Turtle()"
   ]
  },
  {
   "cell_type": "markdown",
   "metadata": {},
   "source": [
    "## Controlling your turtle\n",
    "You can control your turtle's speed, position, and whether it draws a line using a few extra commands.\n",
    "\n",
    "Play around with different values below to control the turtle above."
   ]
  },
  {
   "cell_type": "code",
   "execution_count": 3,
   "metadata": {},
   "outputs": [],
   "source": [
    "# t.speed(N) will control the speed of the turtle when it moves (N from 1 - 10)\n",
    "t.speed(1)"
   ]
  },
  {
   "cell_type": "code",
   "execution_count": 4,
   "metadata": {},
   "outputs": [],
   "source": [
    "# t.penup() will \"raise the pen\" meaning the turtle won't draw lines anymore\n",
    "t.penup()"
   ]
  },
  {
   "cell_type": "code",
   "execution_count": 5,
   "metadata": {},
   "outputs": [],
   "source": [
    "# And this will \"lower the pen\" so the turtle draws when it moves\n",
    "t.penDown()"
   ]
  },
  {
   "cell_type": "code",
   "execution_count": 6,
   "metadata": {},
   "outputs": [],
   "source": [
    "# This changes the color of the turtle's path, if the pen is down\n",
    "t.penColor(\"red\")  # try \"blue\", \"yellow\", \"brown\", \"black\", \"purple\", \"green\""
   ]
  },
  {
   "cell_type": "code",
   "execution_count": 7,
   "metadata": {},
   "outputs": [],
   "source": [
    "# This will rotate the turtle counter-clockwise\n",
    "t.left(90)"
   ]
  },
  {
   "cell_type": "code",
   "execution_count": 8,
   "metadata": {},
   "outputs": [],
   "source": [
    "# And this rotates the turtle clockwise\n",
    "t.right(90)"
   ]
  },
  {
   "cell_type": "code",
   "execution_count": 9,
   "metadata": {},
   "outputs": [],
   "source": [
    "# This makes the turtle move forward\n",
    "t.forward(100)"
   ]
  },
  {
   "cell_type": "code",
   "execution_count": 10,
   "metadata": {},
   "outputs": [],
   "source": [
    "# Finally, this will bring the turtle back home (to the center)\n",
    "t.home()"
   ]
  },
  {
   "cell_type": "markdown",
   "metadata": {},
   "source": [
    "Try drawing different shapes.\n",
    "\n",
    "# Keeping track of the turtle's path\n",
    "You can see the history of the turtle's position here"
   ]
  },
  {
   "cell_type": "code",
   "execution_count": 16,
   "metadata": {},
   "outputs": [
    {
     "data": {
      "text/plain": [
       "[{'p': 1, 'lc': 'black', 'x': 200, 'y': 200, 'b': 0, 's': 1},\n",
       " {'p': 1, 'lc': 'red', 'x': 200, 'y': 200, 'b': -90, 's': 1},\n",
       " {'p': 1, 'lc': 'red', 'x': 200, 'y': 200, 'b': 90, 's': 1},\n",
       " {'p': 1, 'lc': 'red', 'x': 300.0, 'y': 200.0, 'b': 0, 's': 1},\n",
       " {'p': 1, 'lc': 'red', 'x': 200, 'y': 200, 'b': 0, 's': 1}]"
      ]
     },
     "execution_count": 16,
     "metadata": {},
     "output_type": "execute_result"
    }
   ],
   "source": [
    "t.points"
   ]
  },
  {
   "cell_type": "code",
   "execution_count": null,
   "metadata": {},
   "outputs": [],
   "source": []
  }
 ],
 "metadata": {
  "kernelspec": {
   "display_name": "Python 3",
   "language": "python",
   "name": "python3"
  },
  "language_info": {
   "codemirror_mode": {
    "name": "ipython",
    "version": 3
   },
   "file_extension": ".py",
   "mimetype": "text/x-python",
   "name": "python",
   "nbconvert_exporter": "python",
   "pygments_lexer": "ipython3",
   "version": "3.7.6"
  }
 },
 "nbformat": 4,
 "nbformat_minor": 1
}
