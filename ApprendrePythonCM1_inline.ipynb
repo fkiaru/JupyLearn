{
 "cells": [
  {
   "cell_type": "markdown",
   "metadata": {},
   "source": [
    "# Bienvenue !\n",
    "\n",
    "En suivant ce guide, tu vas apprendre les bases de la programmation en Python.\n"
   ]
  },
  {
   "cell_type": "markdown",
   "metadata": {},
   "source": [
    "# Activité N°1 : qu'est-ce que la programmation ?"
   ]
  },
  {
   "cell_type": "markdown",
   "metadata": {},
   "source": [
    "Un ordinateur n'est pas bien malin : il ne sait réaliser que des tâches très simples appelées `instructions` ou `opérations élémentaires`.\n",
    "\n",
    "En combinant ces tâches simles, on peut le rendre capable de réaliser tout un tas d'`opérations complexes`.\n",
    "\n",
    "Ces opérations complexes permettent alors à l'ordinateur de ``résoudre des problèmes`` et cela généralement beaucoup plus rapidement que ne le ferait un humain, \"à la main\".\n",
    "\n",
    "On appelle `algorithme` la suite de ces opérations simples adaptées à la résolution d'un problème donnée.\n",
    "\n",
    "Voici quelques exemples d'`opérations complexes` que peut apprendre à faire un ordinateur :\n",
    "\n",
    "- rechercher un fichier dans le disque dur de l'ordinateur à partir du nom de ce fichier,\n",
    "- trouver le chemin le plus court pour aller d'une ville à une autre ville,\n",
    "- tracer des cercles en couleurs à l'écran,\n",
    "- compter le nombre de lettres d'un mot donné,\n",
    "- rechercher les visages présents sur une image donnée,\n",
    "- déterminer si une image donnée est celle d'un chat, ..."
   ]
  },
  {
   "cell_type": "markdown",
   "metadata": {},
   "source": [
    "**A toi de jouer** : propose trois autres opérations complexes qu'un ordinateur est susceptible de réaliser et écris-les dans la case ci-dessous, appelée `cellule`."
   ]
  },
  {
   "cell_type": "markdown",
   "metadata": {},
   "source": [
    "Les opérations complexes qu'un ordinateur est capable de réaliser sont:\n",
    "\n",
    "1/Trouver les résultats d'une recherche sur Google.\n",
    "\n",
    "2/Il peut prendre une photo d'une page google, e-mail, d'un jeu vidéo, ou compté des nombres rapidement, etc ...\n",
    "\n",
    "3/Et il peut partager une écran (sur zoom ou sur skype)."
   ]
  },
  {
   "cell_type": "markdown",
   "metadata": {},
   "source": [
    "Une fois que tu as complété la `cellule` précédente:\n",
    "\n",
    "- positionne s'y le curseur à l'aide de la souris,\n",
    "- clique dedans avec la souris, \n",
    "- enfin appuie sur la `touche Majuscule` (flèche vers le haut) et **en même temps** la `touche Entrée`.\n",
    "\n",
    "Tu dois constater un changement de mise en forme du texte."
   ]
  },
  {
   "cell_type": "markdown",
   "metadata": {},
   "source": [
    "D'après-toi qu'est que **la programmation?** (écris ta réponse dans la case ci-dessous puis valide avec `Majuscule` + `Entrée`)."
   ]
  },
  {
   "cell_type": "markdown",
   "metadata": {},
   "source": [
    "Quand tu lui apprends à faire une opération complexe."
   ]
  },
  {
   "cell_type": "markdown",
   "metadata": {},
   "source": [
    "# Activité N°2 : Qu'est ce qu'un langage de programmation ?"
   ]
  },
  {
   "cell_type": "markdown",
   "metadata": {},
   "source": [
    "L'ordinateur ne peut comprendre que des opérations simples.\n",
    "\n",
    "Il ne connait que très peu de mots. Son `vocabulaire` est très limité. Un peu comme un bébé qui ne connaitrait que quelques mots: \"maman\", \"papa\", \"boire\", \"manger\", \"jouer\", \"doudou\", ...\n",
    "\n",
    "Pour communiquer avec l'ordinateur, nous devons utiliser les mots qu'il connait.\n",
    "\n",
    "Il faut donc apprendre son `langage` afin de pouvoir lui écrire ce qu'il doit faire.\n",
    "\n",
    "**Voyons par exemple, comment faire écrire un texte à l'écran.**\n",
    "\n",
    "L'instruction pour faire écrire un texte à l'écran se nomme `print()`.\n",
    "\n",
    "Observons l'exemple ci-dessous:"
   ]
  },
  {
   "cell_type": "code",
   "execution_count": 11,
   "metadata": {},
   "outputs": [
    {
     "name": "stdout",
     "output_type": "stream",
     "text": [
      "Bonjour !\n"
     ]
    }
   ],
   "source": [
    "print(\"Bonjour !\")"
   ]
  },
  {
   "cell_type": "markdown",
   "metadata": {},
   "source": [
    "Dans la cellule précédente, nous avons écrit l'*instruction* `print()` afin de dire à l'ordinateur qu'on attend de lui qu'il écrive à l'écran.\n",
    "\n",
    "`print()` est une *opération élémentaire* que l'ordinateur sait faire tout seul.\n",
    "\n",
    "**Entre les parenthèses**, nous avons précisé ce que l'ordinateur devait utiliser pour réaliser cette opération : le texte à afficher est placé entre deux caractères *guillements* `\"` et `\"` qui **délimitent** ce texte.\n",
    "\n",
    "**A toi de jouer** : écris dans la cellule ci-desous l'instruction permettant à l'ordinateur d'afficher à l'écran la phrase suivante, en la complétant par ton prénom :\n",
    "\n",
    "*Bonjour, je m'appelle _ _ _ _ _ _.*\n",
    "\n",
    "Valide ensuite la cellule en appuyant `Majuscule` + `Entrée`."
   ]
  },
  {
   "cell_type": "code",
   "execution_count": 12,
   "metadata": {},
   "outputs": [
    {
     "name": "stdout",
     "output_type": "stream",
     "text": [
      "Je m'appelle Hugo! et j'aime les gâteaux et c'est vrai.\n"
     ]
    }
   ],
   "source": [
    "print (\"Je m'appelle Hugo! et j'aime les gâteaux et c'est vrai.\")"
   ]
  },
  {
   "cell_type": "markdown",
   "metadata": {},
   "source": [
    "D'après-toi, **qu'est ce qu'un langage de programmation?** (écris ta réponse dans la cellule ci-dessous)"
   ]
  },
  {
   "cell_type": "markdown",
   "metadata": {},
   "source": [
    "C'est le vocabulaire que l'ordinateur connait (qu'il est capable de comprendre)."
   ]
  },
  {
   "cell_type": "markdown",
   "metadata": {},
   "source": [
    "## Activité N°3 Un premier programme\n",
    "\n",
    "Lis attentivement la suite d'instructions ci-dessous."
   ]
  },
  {
   "cell_type": "code",
   "execution_count": 14,
   "metadata": {},
   "outputs": [
    {
     "name": "stdout",
     "output_type": "stream",
     "text": [
      "Comment t'appelles-tu? hugo\n",
      "Bienvenue,  hugo\n"
     ]
    }
   ],
   "source": [
    "tonNom = input(\"Comment t'appelles-tu? \")\n",
    "print(\"Bienvenue, \",tonNom)"
   ]
  },
  {
   "cell_type": "markdown",
   "metadata": {},
   "source": [
    "**A toi de jouer:** active la `cellule` précédente en cliquant dedans avec la souris.\n",
    "\n",
    "Lance ensuite l'exécution du programme en validant la cellule à l'aide de la combinaison de touches `Majuscule` + `Entrée`.\n",
    "\n",
    "Réponds à la question posée par l'ordinateur puis valide ta saisie en appuyant sur \"entrée\" et observe ce qu'il affichera en retour."
   ]
  },
  {
   "cell_type": "markdown",
   "metadata": {},
   "source": [
    "**Essayons de comprendre comment fonctionne ce programme!**\n",
    "Quelle est, d'après-toi, le rôle de l'*instruction* `input()` ?\n",
    "\n",
    "Ecris ta réponse dans la cellule ci-dessous."
   ]
  },
  {
   "cell_type": "markdown",
   "metadata": {},
   "source": [
    "L'instruction input sert à poser une question."
   ]
  },
  {
   "cell_type": "markdown",
   "metadata": {},
   "source": [
    "L'ordinateur pose une question à l'utilisateur et récupère le *résultat* de cette question.\n",
    "\n",
    "**Pour mémoriser ce résultat**, l'ordinateur doit utiliser un `conteneur` dans lequel il va pouvoir y placer la réponse.\n",
    "\n",
    "Le conteneur qui sert à mémoriser le texte tapé au clavier par l'utilisateur est appelé une `variable`.\n",
    "\n",
    "En relisant le programme, donne le nom de la variable qui est utilisée pour stocker ton nom?"
   ]
  },
  {
   "cell_type": "markdown",
   "metadata": {},
   "source": [
    " Le nom de la variable est tonNom."
   ]
  },
  {
   "cell_type": "markdown",
   "metadata": {},
   "source": [
    "Recopie le nom de cette variable dans la cellule ci-dessous et valide avec les touches MAJ + \"Entrée\". \n",
    "\n",
    "**Attention**, tu dois respecter précisément la syntaxe du nom de variable en prenant garde aux caractères qui sont en *MAJUSCULES* et ceux qui sont en *minuscules*."
   ]
  },
  {
   "cell_type": "code",
   "execution_count": 15,
   "metadata": {},
   "outputs": [
    {
     "data": {
      "text/plain": [
       "'hugo'"
      ]
     },
     "execution_count": 15,
     "metadata": {},
     "output_type": "execute_result"
    }
   ],
   "source": [
    "tonNom"
   ]
  },
  {
   "cell_type": "markdown",
   "metadata": {},
   "source": [
    "Conclusion: l'ordinateur est capable de mémoriser une information, telle qu'un texte, dans un `conteneur` de sa mémoire."
   ]
  },
  {
   "cell_type": "markdown",
   "metadata": {},
   "source": [
    "## Activité N°4 : L'ordinateur sait compter!"
   ]
  },
  {
   "cell_type": "markdown",
   "metadata": {},
   "source": [
    "Exécute à la suite les instructions contenues dans les cellules suivantes tout en **observant attentivement** le résultat affiché par l'ordinateur.\n",
    "\n",
    "Rappel: pour **exécuter le contenu d'une cellule** de programmation, tu actives la cellule en cliquant dedans à la souris puis tu fais `MAJ` + `Enter`"
   ]
  },
  {
   "cell_type": "code",
   "execution_count": 16,
   "metadata": {},
   "outputs": [
    {
     "name": "stdout",
     "output_type": "stream",
     "text": [
      "12\n"
     ]
    }
   ],
   "source": [
    "print(5+7)  # la somme de cinq et de sept"
   ]
  },
  {
   "cell_type": "code",
   "execution_count": 17,
   "metadata": {},
   "outputs": [
    {
     "name": "stdout",
     "output_type": "stream",
     "text": [
      "12\n"
     ]
    }
   ],
   "source": [
    "print(3*4)   # l'ordinateur multiplie le nombre 3 par le nombre 4 et affiche le résultat"
   ]
  },
  {
   "cell_type": "code",
   "execution_count": 18,
   "metadata": {},
   "outputs": [
    {
     "name": "stdout",
     "output_type": "stream",
     "text": [
      "12\n"
     ]
    }
   ],
   "source": [
    "a = 5        # stocke la valeur 5 dans la variable a\n",
    "b = 7        # stocke la valeur 7 dans la variable b\n",
    "print(a+b)   # effectue l'addition de a et de b puis l'affiche"
   ]
  },
  {
   "cell_type": "markdown",
   "metadata": {},
   "source": [
    "Observe les trois instructions suivantes et essaie de comprendre leur signification.\n",
    "\n",
    "Une fois que tu es parvenu à deviner le rôle de ces instructions ajoute, derrière le caractère `#`, un court commentaire explicatif."
   ]
  },
  {
   "cell_type": "code",
   "execution_count": 19,
   "metadata": {},
   "outputs": [
    {
     "name": "stdout",
     "output_type": "stream",
     "text": [
      "12\n"
     ]
    }
   ],
   "source": [
    "x = 3       # stocke la valeur 3 dans la variable x\n",
    "y = 4       # stocke la valeur 4 dans la variable y\n",
    "print(x*y)  # l'ordinateur multiplie x par y et affiche le résultat"
   ]
  },
  {
   "cell_type": "markdown",
   "metadata": {},
   "source": [
    "Valide la cellule précédente et vérifie que l'ordinateur connait bien ses tables de multiplication.\n",
    "\n",
    "**A toi de jouer:**\n",
    "Fais calculer la multiplication suivante à l'ordinateur \n",
    "\n",
    "$$ 137 \\times 73 $$"
   ]
  },
  {
   "cell_type": "code",
   "execution_count": 20,
   "metadata": {},
   "outputs": [
    {
     "name": "stdout",
     "output_type": "stream",
     "text": [
      "10001\n"
     ]
    }
   ],
   "source": [
    "x=137\n",
    "z=73\n",
    "print (x*z)"
   ]
  },
  {
   "cell_type": "markdown",
   "metadata": {},
   "source": [
    "**Enigme N°1 :** lis attentivement les instructions suivantes. Essaie de deviner les résultats qui seront affichés par l'ordinateur."
   ]
  },
  {
   "cell_type": "code",
   "execution_count": 4,
   "metadata": {},
   "outputs": [
    {
     "name": "stdout",
     "output_type": "stream",
     "text": [
      "10\n",
      "14\n",
      "20\n",
      "1697118000\n"
     ]
    }
   ],
   "source": [
    "a = 2\n",
    "b = 3\n",
    "c = 4\n",
    "print(a*b+c)\n",
    "print(a+b*c)\n",
    "print((a+b)*c)\n",
    "z=66748\n",
    "zr=623999\n",
    "xzrt=1500+1500\n",
    "print((1000*4+4455-z+zr)*xzrt)\n"
   ]
  },
  {
   "cell_type": "markdown",
   "metadata": {},
   "source": [
    "Exécute le contenu de la cellule précédente. \n",
    "\n",
    "Tes prévisions sont-elles correctes? Explique pourquoi en complétant le texte ci-dessous avec les termes suivants (addition, multiplication, etc...)."
   ]
  },
  {
   "cell_type": "markdown",
   "metadata": {},
   "source": [
    "Lorsque l'on demande à l'ordinateur d'effectuer l'opération 2*3+4, il effectue d'abord l'opération de multiplication pour laquelle il obtient le résultat 6_ _ _. Il effectue ensuite l'opération d'addition_ _ _ _ _ _ _ _  et obtient alors le résultat : 10_ _ _\n",
    "\n",
    "\n",
    "Lorsque l'on demande à l'ordinateur d'effectuer l'opération 2+3*4, il effectue d'abord l'opération de multiplication_ _ _ _ _ _ _ _ _ _ _ pour laquelle il obtient le résultat 12_ _ _. Il effectue ensuite l'opération d'addition_ _ _ _ _ _ _ _  et obtient alors le résultat : 14_ _ _\n"
   ]
  },
  {
   "cell_type": "markdown",
   "metadata": {},
   "source": [
    "# Activité N°5 : l'ordinateur sait décompter !\n",
    "\n",
    "*Sais-tu compter jusqu'à dix?*\n",
    "Non euhh oui.\n",
    "\n",
    "Comptes-tu sur tes doigts?\n",
    "oui\n",
    "T'es-tu déjà demandé comment tu faisais pour compter jusqu'à dix sans utiliser tes doigts?\n",
    "non\n",
    "L'ordinateur peut compter jusqu'à un dix. Pour cela, il a besoin de **savoir où il en est**.\n",
    "\n",
    "Il est donc nécessaire qu'il **retienne la valeur du nombre dans sa mémoire**.\n",
    "\n",
    "Pour cela, il utilise un `conteneur` dans lequel il va stocker un nombre.\n",
    "\n",
    "Le nombre stocké dans ce `conteneur` correspond à une **valeur qui va évoluer progressivement**, de un en un, à chaque étape du comptage. \n",
    "\n",
    "C'est comme lorsque tu comptes les cartes d'un paquet de cartes : si quelqu'un t'interrompt, tu risques de perdre le fil et ne plus savoir où tu en es.\n",
    "\n",
    "Conclusion: pour compter, nous avons besoin de `définir` une `variable` qui joue le rôle d'**un conteneur** dans lequel l'ordinateur va placer la valeur qu'il est en train de compter.\n",
    "\n",
    "Observe les instructions suivantes:"
   ]
  },
  {
   "cell_type": "code",
   "execution_count": 5,
   "metadata": {},
   "outputs": [
    {
     "name": "stdout",
     "output_type": "stream",
     "text": [
      "0\n",
      "1\n",
      "2\n",
      "3\n",
      "4\n",
      "5\n",
      "6\n",
      "7\n",
      "8\n",
      "9\n"
     ]
    }
   ],
   "source": [
    "for k in range(10):\n",
    "    print(k) # affiche le contenu de la variable 'k'"
   ]
  },
  {
   "cell_type": "markdown",
   "metadata": {},
   "source": [
    "Quel est le nom de la variable utilisée pour le comptage?"
   ]
  },
  {
   "cell_type": "markdown",
   "metadata": {},
   "source": [
    "La variable utilisée pour le comptage est notée : k"
   ]
  },
  {
   "cell_type": "markdown",
   "metadata": {},
   "source": [
    "*Exécute* les instructions de la cellule ci-dessus et observe ce que l'ordinateur affiche à l'écran.\n",
    "\n",
    "Quel est le premier nombre d'où est parti l'ordinateur pour compter?"
   ]
  },
  {
   "cell_type": "markdown",
   "metadata": {},
   "source": [
    " il est parti de 0;\n",
    " "
   ]
  },
  {
   "cell_type": "markdown",
   "metadata": {},
   "source": [
    "Quel est le dernier nombre affiché par l'ordinateur?"
   ]
  },
  {
   "cell_type": "markdown",
   "metadata": {},
   "source": [
    " 9 aulieu de 10."
   ]
  },
  {
   "cell_type": "markdown",
   "metadata": {},
   "source": [
    "Combien de nombres ont-ils été affichés par l'ordinateur?"
   ]
  },
  {
   "cell_type": "markdown",
   "metadata": {},
   "source": [
    "10"
   ]
  },
  {
   "cell_type": "markdown",
   "metadata": {},
   "source": [
    "**Défi N°1 :** Modifie le programme ci-dessous pour `afficher` la liste des nombres 1, 2, 3, etc... jusqu'à 10.\n",
    "\n",
    "Valide le bon fonctionnement de ton programme en exécutant les instructions."
   ]
  },
  {
   "cell_type": "code",
   "execution_count": 10,
   "metadata": {},
   "outputs": [
    {
     "name": "stdout",
     "output_type": "stream",
     "text": [
      "3\n",
      "4\n",
      "5\n",
      "6\n",
      "7\n",
      "8\n",
      "9\n",
      "10\n",
      "11\n",
      "12\n"
     ]
    }
   ],
   "source": [
    "for k in range(10):\n",
    "    print(k+3)  "
   ]
  },
  {
   "cell_type": "markdown",
   "metadata": {},
   "source": [
    "## Activité N°6 La boucle FOR"
   ]
  },
  {
   "cell_type": "markdown",
   "metadata": {},
   "source": [
    "La structure `for .. in range(...):` est une **structure du langage Python** qui permet d'indiquer que l'ordinateur doit effectuer plusieurs fois une instruction ou un ensemble d'instructionw.\n",
    "\n",
    "Attention, il faut bien respecter :\n",
    "\n",
    "- les deux points `:` à la fin de la phrase,\n",
    "- la **tabulation** (touche avec les deux flèches horizontales) qui servent **à décaler** le bloc d'instructions (on dit que l'on fait une **indentation** du texte),\n",
    "- l'utilisation de minuscules pour les mots clés `for`, `in` et `range`.\n",
    "\n",
    "\n",
    "**A toi de jouer :** Lis attentivement la cellule ci-dessous et essaie de deviner ce qui sera affiché par l'ordinateur lorsque tu exécuteras les instructions de cette cellule."
   ]
  },
  {
   "cell_type": "code",
   "execution_count": 12,
   "metadata": {},
   "outputs": [
    {
     "name": "stdout",
     "output_type": "stream",
     "text": [
      "Voici une phrase.\n",
      "Voici une phrase.\n",
      "Voici une phrase.\n",
      "Voici une phrase.\n"
     ]
    }
   ],
   "source": [
    "for k in range(4):\n",
    "    print(\"Voici une phrase.\")"
   ]
  },
  {
   "cell_type": "markdown",
   "metadata": {},
   "source": [
    "Exécute le contenu de la cellule, compte le nombre de phrases affichées par l'ordinateur.\n",
    "\n",
    "Ta prévision était-elle bonne? Pourquoi?"
   ]
  },
  {
   "cell_type": "markdown",
   "metadata": {},
   "source": [
    "` `"
   ]
  },
  {
   "cell_type": "markdown",
   "metadata": {},
   "source": [
    "**A toi de jouer** : Essaie de prévoir ce qui sera affiché lorsque la séquence d'instructions ci-dessous sera exécutée."
   ]
  },
  {
   "cell_type": "code",
   "execution_count": 13,
   "metadata": {},
   "outputs": [
    {
     "name": "stdout",
     "output_type": "stream",
     "text": [
      "Panier\n",
      "Piano\n",
      "Panier\n",
      "Piano\n",
      "Panier\n",
      "Piano\n",
      "Panier\n",
      "Piano\n",
      "Panier\n",
      "Piano\n",
      "Panier\n",
      "Piano\n"
     ]
    }
   ],
   "source": [
    "for k in range(6):\n",
    "    print(\"Panier\")\n",
    "    print(\"Piano\")    "
   ]
  },
  {
   "cell_type": "markdown",
   "metadata": {},
   "source": [
    "Exécute la cellule ci-dessus et compte le nombre de lignes affichées. \n",
    "\n",
    "Cela était-il prévisible? Pourquoi?"
   ]
  },
  {
   "cell_type": "markdown",
   "metadata": {},
   "source": [
    " "
   ]
  },
  {
   "cell_type": "markdown",
   "metadata": {},
   "source": [
    "**Défi N°2 :** Complète le programme ci-dessous de manière à afficher les nombres de la table de trois :\n",
    "\n",
    "$0$,  $3$ ,  $6$,  $9$, etc... jusqu'à $3\\times 10 = 30$\n",
    "\n",
    "Les nombres pourront être affichés sur des lignes différentes."
   ]
  },
  {
   "cell_type": "code",
   "execution_count": 17,
   "metadata": {
    "scrolled": true
   },
   "outputs": [
    {
     "name": "stdout",
     "output_type": "stream",
     "text": [
      "0\n",
      "3\n",
      "6\n",
      "9\n",
      "12\n",
      "15\n",
      "18\n",
      "21\n",
      "24\n",
      "27\n",
      "30\n"
     ]
    }
   ],
   "source": [
    "for k in range(11):\n",
    "    print(k*3)"
   ]
  },
  {
   "cell_type": "markdown",
   "metadata": {},
   "source": [
    "Essaie et valide ton programme. \n",
    "\n",
    "N'hésite pas à recommencer de manière à obtenir le bon résultat.\n",
    "\n",
    "Combien de termes sont-ils affichés par l'ordinateur?"
   ]
  },
  {
   "cell_type": "markdown",
   "metadata": {},
   "source": [
    "Le nombre de termes affichés par l'ordinateur est de 11 ."
   ]
  },
  {
   "cell_type": "markdown",
   "metadata": {},
   "source": [
    "**Défi N°3** : écris une **boucle** `for` avec une variable appelée *j* qui varie de zéro à 7 et qui affiche :  \n",
    "j = 0  \n",
    "j = 1  \n",
    "j = 2  \n",
    "j = 3  \n",
    "j = 4  \n",
    "j = 5  \n",
    "j = 6  \n",
    "j = 7\n",
    "\n",
    "Ecris et valide ton programme dans la cellule ci-dessous."
   ]
  },
  {
   "cell_type": "code",
   "execution_count": 24,
   "metadata": {},
   "outputs": [
    {
     "name": "stdout",
     "output_type": "stream",
     "text": [
      "j = 0\n",
      "j = 1\n",
      "j = 2\n",
      "j = 3\n",
      "j = 4\n",
      "j = 5\n",
      "j = 6\n",
      "j = 7\n"
     ]
    }
   ],
   "source": [
    "for j in range(8):\n",
    "     print(\"j =\",j)"
   ]
  },
  {
   "cell_type": "markdown",
   "metadata": {},
   "source": [
    "## Activité N°7 La \"grammaire\" du langage Python\n",
    "\n",
    "Lorsque l'on écrit un programme en Python, il importe de respecter les règles du langage tout comme, en français, on respecte les **règles de grammaire**. \n",
    "\n",
    "En français, tous les mots n'ont pas la même nature : on distingue par exemple les verbes, les noms communs, les adjectifs, etc...\n",
    "\n",
    "- Dans le langage Python, il existe des *variables* qui permettent à l'ordinateur de mémoriser des nombres, du texte, ou d'autres informations.\n",
    "\n",
    "> Par exemple, `x = 337` permet de stocker le nombre $337$ dans le conteneur nommé $x$.\n",
    "\n",
    "> De même `Texte = \"bonjour!\"` permet de stocker le mot *Bonjour!* dans le conteneur nommé $Texte$."
   ]
  },
  {
   "cell_type": "markdown",
   "metadata": {},
   "source": [
    "**Entraine-toi!** : complète les instructions ci-dessous pour afficher le texte contenu dans la variable appelée *total*"
   ]
  },
  {
   "cell_type": "code",
   "execution_count": null,
   "metadata": {},
   "outputs": [],
   "source": [
    "t1 = \"Toi\"\n",
    "t2 = \"Et\"\n",
    "t3 = \"Moi\"\n",
    "total = t1+t2+t3\n"
   ]
  },
  {
   "cell_type": "markdown",
   "metadata": {},
   "source": [
    "Explique ce que tu observes:"
   ]
  },
  {
   "cell_type": "markdown",
   "metadata": {},
   "source": [
    "  "
   ]
  },
  {
   "cell_type": "markdown",
   "metadata": {},
   "source": [
    "- En Python, il existe également des *instructions* qui expriment les actions que l'ordinateur doit faire,\n",
    "\n",
    "> Par exemple, l'instruction `print(Texte)` fait afficher le texte *Texte* à l'écran.\n",
    "\n",
    "> L'instruction `input(Question)` affiche la question *Question* à l'écran et récupère la réponse de l'utilisateur.\n",
    "\n",
    "> L'instruction `x = 4` indique à l'ordinateur de placer le nombre $4$ dans la *variable* `x`\n",
    "\n",
    "> L'instruction `a = b + c` indique à l'ordinateur de faire deux choses: d'abord il effectue l'**addition** de *a* et de *b*, ensuite il **place le résultat** de cette opération dans la variable `a`. \n",
    "\n",
    "Lis attentivement les instructions de la cellule ci-dessous.  \n",
    "Exécute le code Python puis essaie de comprendre comment l'ordinateur a fait pour afficher la phrase."
   ]
  },
  {
   "cell_type": "code",
   "execution_count": null,
   "metadata": {},
   "outputs": [],
   "source": [
    "jour  = \"Lundi\"\n",
    "mois  = \"Janvier\"\n",
    "annee = 2021\n",
    "print(\"Bonjour, nous sommes le \",jour,\" du mois de \", mois,\" de l'année \", annee,\".\")"
   ]
  },
  {
   "cell_type": "markdown",
   "metadata": {},
   "source": [
    "**Entraine-toi!** : complète les instructions ci-dessous pour afficher la **couleur choisie** et le **chiffre choisi** par l'utilisateur.\n",
    "\n",
    "Par exemple, si l'utilisateur tape au clavier la couleur *bleue* et le chiffre *cinq* alors l'ordinateur écrit:\n",
    "<pre><code> Tu as choisi la couleur bleue et le chiffre cinq.</code></pre>\n"
   ]
  },
  {
   "cell_type": "code",
   "execution_count": null,
   "metadata": {},
   "outputs": [],
   "source": [
    "coul = input(\"Ecris le nom d'une couleur : \")\n",
    "chiffre = input(\"Ecris un chiffre [entre zéro et neuf] : \")\n",
    "# à compléter\n",
    "    "
   ]
  },
  {
   "cell_type": "markdown",
   "metadata": {},
   "source": [
    "**Valide le bon fonctionnement** de ton programme en le testant.   \n",
    "Parviens-tu à faire afficher la même phrase que dans l'exemmple ? Explique pourquoi."
   ]
  },
  {
   "cell_type": "markdown",
   "metadata": {},
   "source": [
    "  "
   ]
  },
  {
   "cell_type": "markdown",
   "metadata": {},
   "source": [
    "- En Python, il existe également des mots déjà connus de l'ordinateur, appelés **mots réservés**.  \n",
    "Ces mots permettent à l'ordinateur de savoir s'il doit répéter des opérations par exemple, ou bien s'il doit envisager des cas pour savoir quoi faire.\n",
    "\n",
    "> Par exemple, les mots clés `for .. in` indiquent à l'ordinateur qu'il va devoir répéter une séquence d'instructions.\n",
    "\n",
    "Lorsque l'ordinateur **répète une séquence d'instructions** on dit qu'il effectue **une boucle**, à l'image d'un coureur qui tourne en rond autour d'un stade."
   ]
  },
  {
   "cell_type": "markdown",
   "metadata": {},
   "source": [
    "**Exemple :** on veut distribuer quinze cartes de manière équitable à trois joueurs.\n",
    "\n",
    "Chaque joueur pourrait-il avoir le même nombre de cartes ? Si oui, précise combien de carte aura chaque joueur.\n",
    "\n",
    "On souhaite distribuer les cartes successivement à chaque joueur, indique combien de \"tours\" devra faire celui qui distribue."
   ]
  },
  {
   "cell_type": "markdown",
   "metadata": {},
   "source": []
  },
  {
   "cell_type": "markdown",
   "metadata": {},
   "source": [
    "**Lis attentivement** les instructions ci-dessous puis essaie de deviner ce que l'ordinateur va faire."
   ]
  },
  {
   "cell_type": "code",
   "execution_count": null,
   "metadata": {},
   "outputs": [],
   "source": [
    "for i in range(5):\n",
    "    print(\"Distribue au joueur 1\")\n",
    "    print(\"Distribue au joueur 2\")\n",
    "    print(\"Distribue au joueur 3\")"
   ]
  },
  {
   "cell_type": "markdown",
   "metadata": {},
   "source": [
    "Exécute le contenu de la cellule ci-dessus et explique ce que tu observes.\n",
    "\n",
    "A quoi sert la variable appelée <code>i</code> ?"
   ]
  },
  {
   "cell_type": "markdown",
   "metadata": {},
   "source": [
    "  "
   ]
  },
  {
   "cell_type": "markdown",
   "metadata": {},
   "source": [
    "**Défi N°3**  Sur le même modèle, écris dans la cellule ci-dessous un programme qui distribue un paquet de trente-deux cartes, de manière équitable entre quatre joueurs.\n",
    "\n",
    "Attention: tu dois prendre garde à bien faire les **indentations** (touche tabulation)."
   ]
  },
  {
   "cell_type": "code",
   "execution_count": null,
   "metadata": {},
   "outputs": [],
   "source": [
    "# programme pour distribuer 32 cartes à 4 joueurs.\n"
   ]
  },
  {
   "cell_type": "markdown",
   "metadata": {},
   "source": [
    "**As-tu bien compris la grammaire du langage Python ?**\n",
    "\n",
    "Lis le programme ci-dessous. Essaie de repérer dans ce programme:\n",
    "\n",
    "- les mots réservés et les *boucles for*,\n",
    "- les variables,\n",
    "- les instructions.\n"
   ]
  },
  {
   "cell_type": "code",
   "execution_count": null,
   "metadata": {},
   "outputs": [],
   "source": [
    "nbCartes = 32\n",
    "for iTour in range(8):\n",
    "    for iJoueur in range(4):\n",
    "        nCarte = iTour*4 + iJoueur\n",
    "        print(\"Le joueur \", iJoueur,\" reçoit la carte \",nCarte)"
   ]
  },
  {
   "cell_type": "markdown",
   "metadata": {},
   "source": [
    "Complète le texte ci-dessous en précisant le nombre de boucles for, le nom des variables et le nombre d'instructions."
   ]
  },
  {
   "cell_type": "markdown",
   "metadata": {},
   "source": [
    "Le programme programme ci-dessous possède _ _ _ boucles for.\n",
    "\n",
    "Les variables de ce programme sont nommées: _ _ _, _ _ _, _ _ _ _ et  _ _ _ _.\n",
    "\n",
    "Le programme comporte _ _ _  instructions."
   ]
  },
  {
   "cell_type": "markdown",
   "metadata": {},
   "source": [
    "**Défi N°4** : \n",
    "\n",
    "\"Je parie que t'es pas cap de compter jusqu'à un million!\"\n",
    "\n",
    "Voici un défi que l'ordinateur est prêt à relever facilement!\n",
    "\n",
    "Ecris un programme qui:\n",
    "\n",
    "- affiche le texte \"Top départ!\"\n",
    "- effectue un boucle avec une variable nommée `compteur` qui prend un million de valeurs différentes,\n",
    "- qui **n'affiche pas** la valeur de la variable nommée `compteur`,\n",
    "- affiche \"J'ai compté jusqu'à un million!\"\n",
    "\n",
    "Attention: tu dois prendre garde à bien faire les **indentations** (touche tabulation)."
   ]
  },
  {
   "cell_type": "markdown",
   "metadata": {},
   "source": [
    "## Activité N°8 Faire dessiner l'ordinateur\n"
   ]
  },
  {
   "cell_type": "markdown",
   "metadata": {},
   "source": [
    "On peut augmenter le vocabulaire de l'ordinateur en utilisant des **modules complétementaires**.\n",
    "\n",
    "Un module est une sorte de *grimoire* qui contient des recettes permettant d'**enrichir le vocabulaire** de l'ordinateur.\n",
    "\n",
    "Une fois que l'on donne l'accès à un **module**, l'ordinateur apprend de **nouvelles instructions** et sera, par exemple, capable de dessiner des figures géométriques à l'écran.\n",
    "\n",
    "Pour permettre à l'ordinateur d'accéder au contenu d'un module, on utilise le **mot réservé** `import` suivi du nom du **module** auquel l'ordinateur doit accèder.\n",
    "\n",
    "Observe l'exemple ci-dessous."
   ]
  },
  {
   "cell_type": "code",
   "execution_count": 2,
   "metadata": {},
   "outputs": [],
   "source": [
    "import turtle_# donne l'accès aux instructions définies dans le module 'turtle'"
   ]
  },
  {
   "cell_type": "markdown",
   "metadata": {},
   "source": [
    "Lorsque l'on fait suivre le mot `import` du nom d'un module, on permet à l'ordinateur d'utiliser l'ensemble des instructions qui ont été définies dans ce module.\n",
    "\n",
    "Dans notre cas, le module est nommé *turtle*.\n",
    "\n",
    "**A toi de jouer !**\n",
    "\n",
    "\"turtle\" est un mot anglais. Sais-tu ce qu'il signifie?"
   ]
  },
  {
   "cell_type": "markdown",
   "metadata": {},
   "source": [
    "Le mot turtle signifie : _ _ _."
   ]
  },
  {
   "cell_type": "markdown",
   "metadata": {},
   "source": [
    "**Valide la cellule** ci-dessous contenant l'instruction `import`."
   ]
  },
  {
   "cell_type": "markdown",
   "metadata": {},
   "source": [
    "A présent, l'ordinateur s'est enrichi d'une nouvelle fonctionalité : il sera capable de tracer des figures géométriques à l'image d'une tortue qui répond à des ordres simples:\n",
    "\n",
    "- avancer,\n",
    "- tourner à droite,\n",
    "- lever le crayon,\n",
    "- baisser le crayon, etc..."
   ]
  },
  {
   "cell_type": "markdown",
   "metadata": {},
   "source": [
    "**Etape 1 :** Faire apparaître la zone de dessin.\n",
    "\n",
    "La première chose à faire est de faire la zone laquelle la tortue va pouvoir se déplacer et réaliser son dessin."
   ]
  },
  {
   "cell_type": "code",
   "execution_count": 3,
   "metadata": {},
   "outputs": [
    {
     "data": {
      "application/vnd.jupyter.widget-view+json": {
       "model_id": "e8893186e63846faadb316a736893fad",
       "version_major": 2,
       "version_minor": 0
      },
      "text/plain": [
       "Turtle(initTest=[500, 350, '#FFFFAA', '#008A00'])"
      ]
     },
     "metadata": {},
     "output_type": "display_data"
    }
   ],
   "source": [
    "# FAIRE APPARAITRE LA ZONE DE DESSIN AVEC UNE TORTUE\n",
    "t=turtle_.Turtle()"
   ]
  },
  {
   "cell_type": "markdown",
   "metadata": {},
   "source": [
    "**A toi de jouer :** valide le contenu de la cellule précédente, observe bien puis ferme la fenêtre qui est apparue.\n",
    "\n",
    "Félicitations, tu viens de créer un **OJBET** qui est une tortue et qui est baptisé *t* !\n",
    "\n",
    "A cet objet sont associées un grand nombre de \"recettes\", appelées **METHODES** qui permettent à cet objet d'intéragir avec son environnement. \n",
    "\n",
    "Nous allons voir par exemple que les **méthodes** de l'objet \"tortue\" lui permettent :\n",
    "\n",
    "- d'avancer, de reculer,\n",
    "- de tourner à droite,\n",
    "- de lever le crayon, de baisser le crayon, \n",
    "- de changer de couleur,\n",
    "- de changer sa vitesse de déplacement,\n",
    "- de modifier la taille de la tortue, etc..."
   ]
  },
  {
   "cell_type": "markdown",
   "metadata": {},
   "source": [
    "Nous allons modifier la couleur de la tortue.\n",
    "\n",
    "Lis attentivement la cellule ci-dessous, exécute-la puis réponds aux questions qui suivent."
   ]
  },
  {
   "cell_type": "code",
   "execution_count": 4,
   "metadata": {},
   "outputs": [],
   "source": [
    "t.tColor(\"red\")"
   ]
  },
  {
   "cell_type": "markdown",
   "metadata": {},
   "source": [
    "Comment s'appelle la **méthode** qui change la couleur de la tortue?"
   ]
  },
  {
   "cell_type": "markdown",
   "metadata": {},
   "source": [
    "Pour changer la couleur de la tortue, on utilise la \"méthode\"  appelée : _ _ "
   ]
  },
  {
   "cell_type": "markdown",
   "metadata": {},
   "source": [
    "**En avant !** Nous allons faire déplacer la tortue.\n",
    "\n",
    "Pour cela, nous utilisons la **méthode** nommée `forward()`. C'est un mot anglais qui signifie : \"en avant \".\n",
    "\n",
    "Pour avancer la tortue 't' de 50 pas en avant, il suffira donc d'écrire\n",
    "<pre>     `t.forward(50)`   </pre>\n",
    "\n",
    "On dit que l'on **appelle la méthode** `forward()` de l'**objet** tortue 't1'.\n",
    "\n",
    "Le nombre 50 est le **paramètre** qui est transmis à cette méthode afin de préciser de combien de pas la tortue doit avancer.\n",
    "\n",
    "**A toi de jouer** : exécute les instructions ci-dessous qui permettant de faire avancer la tortue de 50 pas."
   ]
  },
  {
   "cell_type": "code",
   "execution_count": 24,
   "metadata": {},
   "outputs": [
    {
     "data": {
      "application/vnd.jupyter.widget-view+json": {
       "model_id": "9e00775f2a4e489db0c5a8037714015c",
       "version_major": 2,
       "version_minor": 0
      },
      "text/plain": [
       "Turtle(initTest=[500, 350, '#FFFFAA', '#008A00'])"
      ]
     },
     "metadata": {},
     "output_type": "display_data"
    }
   ],
   "source": [
    "t=turtle_.Turtle() # crée un objet \"tortue\"\n",
    "t.forward(100) # Faire avancer"
   ]
  },
  {
   "cell_type": "markdown",
   "metadata": {},
   "source": [
    "**A toi de jouer**: Dans la cellule précédente, modifie la valeur du **paramètre** transmis à la méthode ``forward()`` pour faire avancer la tortue de 100 pas.\n",
    "Exécute à nouveau la cellule et vérifie que la distance parcourue par la tortue est augmentée."
   ]
  },
  {
   "cell_type": "markdown",
   "metadata": {},
   "source": [
    "**Défi N°5 : Les nombres négatifs**.\n",
    "\n",
    "Un nombre négatif est un nombre tel que lorsqu'on l'additionne à un autre, cela revient à effectuer une soustration.\n",
    "\n",
    "Par exemple : si au nombre dix, on additino le nombre \"moins 4\", on aura finalement retiré 4 au nombre 10.\n",
    "\n",
    "Le résultat est donc 6.\n",
    "\n",
    "Penses-tu que Python est capable de comprendre les nombres négatifs?\n",
    "\n",
    "Modifie dans la cellule précédente, la valeur du **paramètre** transmis à la méthode ``forward()`` de manière **à faire reculer** la tortue de 200 pas.\n"
   ]
  },
  {
   "cell_type": "markdown",
   "metadata": {},
   "source": [
    "As-tu réussi? Explique comment tu as procédé?"
   ]
  },
  {
   "cell_type": "markdown",
   "metadata": {},
   "source": [
    " Pour faire reculer la tortue de 200 pas, je lui ai demandé d'avancer de : _ _ _ _."
   ]
  },
  {
   "cell_type": "markdown",
   "metadata": {},
   "source": [
    "**Enigme N°2 :** Exécute les instructions ci-dessous et devine le rôle des **méthodes** ``penColor()`` et ``penSize()``."
   ]
  },
  {
   "cell_type": "code",
   "execution_count": 13,
   "metadata": {},
   "outputs": [
    {
     "data": {
      "application/vnd.jupyter.widget-view+json": {
       "model_id": "1ee2447ef025444f8aaa1d996390b478",
       "version_major": 2,
       "version_minor": 0
      },
      "text/plain": [
       "Turtle(initTest=[500, 350, '#FFFFAA', '#008A00'])"
      ]
     },
     "metadata": {},
     "output_type": "display_data"
    }
   ],
   "source": [
    "t=turtle_.Turtle() # crée un objet \"tortue\"\n",
    "t.forward(40) # Faire avancer\n",
    "t.penColor(\"red\")\n",
    "t.forward(40) # Faire avancer\n",
    "t.penWidth(5)\n",
    "t.forward(40) # Faire avancer\n",
    "t.penWidth(15)\n",
    "t.penColor(\"white\")\n",
    "t.forward(40) # Faire avancer"
   ]
  },
  {
   "cell_type": "markdown",
   "metadata": {},
   "source": [
    "  La méthode penCOlor() sert à modifier _ _ _ \n",
    "  \n",
    "  La méthode penSize() sert à modifier _ _ _"
   ]
  },
  {
   "cell_type": "markdown",
   "metadata": {},
   "source": [
    "## Activité N°9 On vire de bord !"
   ]
  },
  {
   "cell_type": "code",
   "execution_count": 8,
   "metadata": {},
   "outputs": [],
   "source": [
    "import turtle # donne l'accès aux instructions définies dans le module 'turtle'"
   ]
  },
  {
   "cell_type": "markdown",
   "metadata": {},
   "source": [
    "Nous avons vu comment faire avancer la tortue en ligne droite.\n",
    "\n",
    "A présent nous allons voir comment lui faire **changer de direction.**\n",
    "\n",
    "Pour permettre de mieux observer le déplacement de la tortue, nous allons lui demander de **ralentir** son déplacement.\n",
    "\n",
    "Cela se fait à l'aide de la **méthode** `speed()`. Par exemple, pour une tortue appelée 't':\n",
    "\n",
    "- avec l'instruction `t.speed(0)`    la tortue adopte la vitesse *la plus lente*,\n",
    "- avec l'instruction `t.speed(10)`  la tortue adopte une vitesse *la plus rapide*,"
   ]
  },
  {
   "cell_type": "markdown",
   "metadata": {},
   "source": [
    "**A toi de jouer :** Complète le programme ci-dessous en ajoutant l'instruction permettant de ralentir au maximum le déplacement de la tortue 't'."
   ]
  },
  {
   "cell_type": "code",
   "execution_count": 27,
   "metadata": {},
   "outputs": [
    {
     "data": {
      "application/vnd.jupyter.widget-view+json": {
       "model_id": "6b61869284a947129b2415fc612422e7",
       "version_major": 2,
       "version_minor": 0
      },
      "text/plain": [
       "Turtle(initTest=[500, 350, '#FFFFAA', '#008A00'])"
      ]
     },
     "metadata": {},
     "output_type": "display_data"
    }
   ],
   "source": [
    "# FAIRE APPARAITRE LA ZONE DE DESSIN\n",
    "t=turtle_.Turtle() # crée un objet \"tortue\"\n",
    "\n",
    "# A COMPLETER\n",
    " # ralentir au maximum la tortue\n",
    "t.forward(200) # la tortue avance de 200 pas\n",
    "t.left(180)   # la tortue effectue un demi-tour"
   ]
  },
  {
   "cell_type": "markdown",
   "metadata": {},
   "source": [
    "Exécute ce programme et observe.\n",
    "\n",
    "Quelle est l'instruction qui permet à la tortue 't' de faire un demi-tour?"
   ]
  },
  {
   "cell_type": "markdown",
   "metadata": {},
   "source": [
    "L'instruction qui permet de faire un demi-tour à la tortue 't1' est : _ _ "
   ]
  },
  {
   "cell_type": "markdown",
   "metadata": {},
   "source": [
    "Modifie le programme précédent en changeant la **valeur du paramètre qui est transmis** à cette méthode:\n",
    "\n",
    "Au lieu d'une rotation de 180°, fais effectuer à la tortue une rotation de 90°.\n",
    "\n",
    "Ré-exécute le programme pour observer le changement."
   ]
  },
  {
   "cell_type": "markdown",
   "metadata": {},
   "source": [
    "**On change de sens !**\n",
    "\n",
    "Penses-tu que la tortue sait distinguer sa droite de sa gauche? \n",
    "\n",
    "Dans quel sens la tortue tourne-t-elle lorsqu'on effectue une rotation avec l'instruction `t.right(90)`?"
   ]
  },
  {
   "cell_type": "markdown",
   "metadata": {},
   "source": [
    "Avec cette instruction, la tortue tourne vers la _ _ _ "
   ]
  },
  {
   "cell_type": "markdown",
   "metadata": {},
   "source": [
    "**A toi jouer! :** \n",
    "\n",
    "Exécute le programme ci-dessous et observe.\n",
    "\n",
    "Puis remplace la méthode `right()` par la méthode `left()`."
   ]
  },
  {
   "cell_type": "code",
   "execution_count": 28,
   "metadata": {},
   "outputs": [
    {
     "data": {
      "application/vnd.jupyter.widget-view+json": {
       "model_id": "007a48e146a04cbc99ec4bf6e530ff88",
       "version_major": 2,
       "version_minor": 0
      },
      "text/plain": [
       "Turtle(initTest=[500, 350, '#FFFFAA', '#008A00'])"
      ]
     },
     "metadata": {},
     "output_type": "display_data"
    }
   ],
   "source": [
    "# FAIRE APPARAITRE LA ZONE DE DESSIN\n",
    "t=turtle_.Turtle() # crée un objet \"tortue\"\n",
    "\n",
    "# A COMPLETER\n",
    "t.speed(3) # vitesse 3 sur 10\n",
    "t.forward(100) # la tortue avance de 200 pas\n",
    "t.right(90)   # la tortue effectue un demi-tour\n",
    "t.forward(100) # la tortue avance de 200 pas"
   ]
  },
  {
   "cell_type": "markdown",
   "metadata": {},
   "source": [
    "**Quelques astuces pour se simplifier la vie!**: parfois on peut trouver que l'on met trop de temps pour écrire la méthode ``forward()``. \n",
    "\n",
    "Il est possible d'écrire *en abrégé* avec uniquement les deux lettres ``fd()``.\n",
    "\n",
    "De même:\n",
    "\n",
    "- au lieu d'écrire la **méthode** ``right()``, on peut simplement écrire ``rt()``.\n",
    "- au lieu d'écrire la **méthode** ``left()``, on peut simplement écrire ``lt()``.\n"
   ]
  },
  {
   "cell_type": "markdown",
   "metadata": {},
   "source": [
    "**Enigme N°3 :**\n",
    "\n",
    "Lis attentivement les instructions ci-dessous et essaie de devenir la figure qui sera tracée par la tortue."
   ]
  },
  {
   "cell_type": "code",
   "execution_count": 38,
   "metadata": {},
   "outputs": [
    {
     "data": {
      "application/vnd.jupyter.widget-view+json": {
       "model_id": "acba2fb4faf547cf840f5d801a081243",
       "version_major": 2,
       "version_minor": 0
      },
      "text/plain": [
       "Turtle(initTest=[500, 350, '#FFFFAA', '#008A00'])"
      ]
     },
     "metadata": {},
     "output_type": "display_data"
    }
   ],
   "source": [
    "import turtle_# donne l'accès aux instructions définies dans le module 'turtle'\n",
    "\n",
    "# FAIRE APPARAITRE LA ZONE DE DESSIN\n",
    "t=turtle_.Turtle() # crée un objet \"tortue\"\n",
    "t.speed(5) # vitesse de tracé\n",
    "\n",
    "for k in range(6):\n",
    "    t.fd(25)\n",
    "    t.lt(90)\n",
    "    t.fd(25)\n",
    "    t.rt(90)"
   ]
  },
  {
   "cell_type": "markdown",
   "metadata": {},
   "source": [
    "Exécute les instructions de la cellule. Qu'est-ce que cela représente? Quel est le rôle de la boucle ``for`` ?"
   ]
  },
  {
   "cell_type": "markdown",
   "metadata": {},
   "source": [
    "La boucle for permet de _ _ _ _ ."
   ]
  },
  {
   "cell_type": "markdown",
   "metadata": {},
   "source": [
    "## Activité N°10 Une première figure géométrique : le carré.\n",
    "\n",
    "Tu as déjà entendu parler de losanges, triangles, rectangles, cercles, etc... \n",
    "\n",
    "Mais sais-tu vraiment ce qu'est un *carré*? Combien de côtés possède cette figure géométrique?"
   ]
  },
  {
   "cell_type": "markdown",
   "metadata": {},
   "source": [
    "  "
   ]
  },
  {
   "cell_type": "markdown",
   "metadata": {},
   "source": [
    "Que peux-tu dire des angles d'un carré?"
   ]
  },
  {
   "cell_type": "markdown",
   "metadata": {},
   "source": [
    "  "
   ]
  },
  {
   "cell_type": "markdown",
   "metadata": {},
   "source": [
    "Aussi surprenant que cela puisse paraître, l'ordinateur **NE SAIT PAS** ce qu'est un carré!\n",
    "\n",
    "Mais pas de panique, nous allons lui expliquer comment faire pour tracer un carré.\n",
    "\n",
    "Voici une recette qu'on pourrait lui donner pour tracer un carré:\n",
    "\n",
    "- avancer de 100 pas,\n",
    "- tourner vers la droite de 90°,\n",
    "- avancer de 100 pas,\n",
    "- tourner vers la droite de 90°,\n",
    "- avancer de 100 pas,\n",
    "- tourner vers la droite de 90°,\n",
    "- avancer de 100 pas,\n",
    "- tourner vers la droite de 90°.\n"
   ]
  },
  {
   "cell_type": "markdown",
   "metadata": {},
   "source": [
    "**Enigme :** Dans la séquence d'instructions précédente, il y a une instruction qui semble inutile pour tracer le carré, laquelle? A quoi sert-elle malgré tout?"
   ]
  },
  {
   "cell_type": "markdown",
   "metadata": {},
   "source": [
    "Un telle recette est appelée un **algorithme**.\n",
    "\n",
    "L'algorithme précédent est écrit dans la langue française. L'ordinateur ne peut pas comprendre cet algorithme.\n",
    "\n",
    "C'est pourquoi nous devons le traduire dans le langage Python.\n",
    "\n",
    "**A toi de jouer :** en utilisant tes connaissances acquises dans les activités précédentes, complète le programme ci-dessous avec l'**algorithme** permettant de tracer le carré. \n",
    "\n",
    "Astuce : pour gagner du temps, tu peux utiliser les abréviations ``fd()`` pour avancer et ``rt()`` pour tourner à droite."
   ]
  },
  {
   "cell_type": "code",
   "execution_count": 39,
   "metadata": {},
   "outputs": [
    {
     "data": {
      "application/vnd.jupyter.widget-view+json": {
       "model_id": "4a03c6486d414abc86023f9f48c243d1",
       "version_major": 2,
       "version_minor": 0
      },
      "text/plain": [
       "Turtle(initTest=[500, 350, '#FFFFAA', '#008A00'])"
      ]
     },
     "metadata": {},
     "output_type": "display_data"
    }
   ],
   "source": [
    "import turtle_# donne l'accès aux instructions définies dans le module 'turtle'\n",
    "\n",
    "# FAIRE APPARAITRE LA ZONE DE DESSIN\n",
    "t=turtle_.Turtle() # crée un objet \"tortue\"\n",
    "\n",
    "#début de la recette pour tracer un carré (à compléter)\n",
    "\n"
   ]
  },
  {
   "cell_type": "markdown",
   "metadata": {},
   "source": [
    "Exécute le programme et observe.\n",
    "\n",
    "As-tu réussi à faire tracer un carré?"
   ]
  },
  {
   "cell_type": "markdown",
   "metadata": {},
   "source": [
    "  "
   ]
  },
  {
   "cell_type": "markdown",
   "metadata": {},
   "source": [
    "N'as-tu pas le sentiment d'écrire plusieurs fois les mêmes instructions?\n",
    "\n",
    "Lorsque qu'un **bloc d'instructions** revient plusieurs fois, il est possible d'utiliser une **structure du langage Python** qui répète automatiquement ce bloc d'instructions.\n",
    "\n",
    "Comment s'appelle une telle structure?"
   ]
  },
  {
   "cell_type": "markdown",
   "metadata": {},
   "source": [
    "Pour exécuter fois un bloc d'instructions, on utilise la structure : _ _ _"
   ]
  },
  {
   "cell_type": "markdown",
   "metadata": {},
   "source": [
    "**A toi de jouer :** réécris la rectte permettant de réaliser un carré en utilisant la structure `for`.\n",
    "\n",
    "Complète pour cela le programme ci-desouus:"
   ]
  },
  {
   "cell_type": "code",
   "execution_count": null,
   "metadata": {},
   "outputs": [],
   "source": [
    "import turtle_# donne l'accès aux instructions définies dans le module 'turtle'\n",
    "\n",
    "# FAIRE APPARAITRE LA ZONE DE DESSIN\n",
    "t=turtle_.Turtle() # crée un objet \"tortue\"\n",
    "t.speed(6)\n",
    "\n",
    "#début de la recette pour tracer un carré (à compléter)\n",
    "for k in range(...) : # a compléter\n",
    "    t.fd(100) # avancer\n",
    "              # à compléter"
   ]
  },
  {
   "attachments": {
    "image.png": {
     "image/png": "[encoded data removed]"
    }
   },
   "cell_type": "markdown",
   "metadata": {},
   "source": [
    "**Défi N°9 :** le triangle \"parfait\".\n",
    "\n",
    "Modifie le programme précédent de manière à réaliser le triangle suivant.\n",
    "![image.png](attachment:image.png)"
   ]
  },
  {
   "cell_type": "markdown",
   "metadata": {},
   "source": [
    "## Activité N°11 Faire apprendre des recettes à l'ordinateur"
   ]
  },
  {
   "cell_type": "markdown",
   "metadata": {},
   "source": [
    "Félicitations, tu as fait les dix premières activités : tu as appris quelques instructions du langage Python et tu sais comment faire tracer des figures géométriques simples.\n",
    "\n",
    "A présent, il te faut **apprendre à apprendre !**\n",
    "\n",
    "L'ordinateur a pu réaliser un carré grâce à une suite d'instructions que tu as écrites.\n",
    "\n",
    "Nous allons lui faire apprendre la recette afin de pouvoir lui demander de tracer un carré.\n",
    "\n",
    "On veut que l'ordinateur comprenne l'instruction suivante :\n",
    "<pre>     carre(100)   </pre>\n",
    "\n",
    "Il doit alors tracer un carré de côté 100 pas.\n",
    "\n",
    "Pour cela, nous allons définir ce qu'on appelle une **fonction**."
   ]
  },
  {
   "cell_type": "markdown",
   "metadata": {},
   "source": [
    "En informatique, une **fonction** est un morçeau de programme qui peut être exécuté par l'ordinateur et qui comporte éventuellement un grand nombre d'instructions simples *à l'intérieur*.\n",
    "\n",
    "La fonction qui trace un carré possède **un paramètre** qui lui est transmis.\n",
    "\n",
    "Ce paramètre est la longueur d'un des côtés du carré qui doit être tracé."
   ]
  },
  {
   "cell_type": "markdown",
   "metadata": {},
   "source": [
    "Voici comment définir la fonction ``carre(longueur)`` en Python:"
   ]
  },
  {
   "cell_type": "code",
   "execution_count": 58,
   "metadata": {},
   "outputs": [],
   "source": [
    "def carre(longueur):\n",
    "    for k in range(4):\n",
    "        t.fd(longueur)\n",
    "        t.rt(90)\n",
    "    "
   ]
  },
  {
   "cell_type": "markdown",
   "metadata": {},
   "source": [
    "**A toi de jouer**: Complète le programme ci-dessous de manière à appeler la fonction carré avec le paramètre *longueur* qui vaut 100 pas."
   ]
  },
  {
   "cell_type": "code",
   "execution_count": null,
   "metadata": {},
   "outputs": [],
   "source": [
    "import turtle_# donne l'accès aux instructions définies dans le module 'turtle'\n",
    "\n",
    "# FAIRE APPARAITRE LA ZONE DE DESSIN\n",
    "t=turtle_.Turtle() # crée un objet \"tortue\"\n",
    "t.speed(6)\n",
    "\n",
    "# appelle de la fonction carre\n"
   ]
  },
  {
   "attachments": {
    "image.png": {
     "image/png": "[encoded data removed]"
    }
   },
   "cell_type": "markdown",
   "metadata": {},
   "source": [
    "**Défi N°10 :** Modifie le programme précédent de manière à réaliser la figure ci-dessous.\n",
    "![image.png](attachment:image.png)\n",
    "\n",
    "Indications:\n",
    "\n",
    "- on remarquera que la figure comporte exactement **sept carrés** dont les côtés ont pour valeurs :\n",
    "\n",
    "0, 20, 40, 60, 80, 100, 120.\n",
    "\n",
    "- les nombres précédents font partie de la table de 20. Ils s'écrivent donc sous la forme:\n",
    "\n",
    "$\\,0\\times 20\\,$ , $\\,1\\times 20\\,$, $\\,2\\times20\\,$, $\\,3\\times20\\,$, etc...\n",
    "\n",
    "- tu penseras à utiliser une boucle ``for``"
   ]
  },
  {
   "attachments": {
    "image.png": {
     "image/png": "[encoded data removed]"
    }
   },
   "cell_type": "markdown",
   "metadata": {},
   "source": [
    "### Activité N°12 L'octogone régulier\n",
    "\n",
    "C'est une figure géométrique possédant huit côtés.\n",
    "\n",
    "![image.png](attachment:image.png)\n",
    "\n",
    "Pour la réaliser la recette est la suivante.\n",
    "\n",
    "REPETE 8 FOIS:  \n",
    "- AVANCE de LONGUEUR\n",
    "-  TOURNER de ANGLE\n",
    "\n",
    "Observe attentivement la figure.\n",
    "Quelle est la valeur de l'angle ANGLE dont tourne la tortue entre chaque segment de droite?\n"
   ]
  },
  {
   "cell_type": "markdown",
   "metadata": {},
   "source": [
    "Après chaque segment, la tortue doit tourner d'un angle égal à _ _ _ (degrés)."
   ]
  },
  {
   "cell_type": "markdown",
   "metadata": {},
   "source": [
    "**A toi de jouer :** On souhaite définir une fonction appelée ``octogone(longueur)`` qui trace un octogone dont les côtés ont pour longueur *longueur*.\n",
    "\n",
    "On décide de s'inspirer de la fonction ``carre()``. Modifie la fonction ci-dessous de manière à faire apprendre à l'ordinateur comment tracer un octogone régulier."
   ]
  },
  {
   "cell_type": "code",
   "execution_count": 68,
   "metadata": {},
   "outputs": [],
   "source": [
    "def octogone(longueur):\n",
    "    for k in range(4): # à modifier\n",
    "        t.fd(longueur)\n",
    "        t.rt(90) # à modifier    "
   ]
  },
  {
   "cell_type": "code",
   "execution_count": 67,
   "metadata": {},
   "outputs": [
    {
     "data": {
      "application/vnd.jupyter.widget-view+json": {
       "model_id": "4383e9ce0f2a42a990db6187e15a1f60",
       "version_major": 2,
       "version_minor": 0
      },
      "text/plain": [
       "Turtle(initTest=[500, 350, '#FFFFAA', '#008A00'])"
      ]
     },
     "metadata": {},
     "output_type": "display_data"
    }
   ],
   "source": [
    "import turtle_# donne l'accès aux instructions définies dans le module 'turtle'\n",
    "\n",
    "# FAIRE APPARAITRE LA ZONE DE DESSIN\n",
    "t=turtle_.Turtle() # crée un objet \"tortue\"\n",
    "t.speed(6)\n",
    "t.penWidth(3)      # taille du crayon\n",
    "t.penColor(\"blue\") # couleur du crayon\n",
    "# appelle de la fonction carre\n",
    "octogone(50)"
   ]
  }
 ],
 "metadata": {
  "kernelspec": {
   "display_name": "Python 3",
   "language": "python",
   "name": "python3"
  },
  "language_info": {
   "codemirror_mode": {
    "name": "ipython",
    "version": 3
   },
   "file_extension": ".py",
   "mimetype": "text/x-python",
   "name": "python",
   "nbconvert_exporter": "python",
   "pygments_lexer": "ipython3",
   "version": "3.7.6"
  }
 },
 "nbformat": 4,
 "nbformat_minor": 4
}
